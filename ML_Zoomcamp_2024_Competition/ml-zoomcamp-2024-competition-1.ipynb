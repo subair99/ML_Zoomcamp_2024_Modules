{
 "cells": [
  {
   "cell_type": "code",
   "execution_count": 1,
   "metadata": {
    "execution": {
     "iopub.execute_input": "2025-01-23T23:26:37.152915Z",
     "iopub.status.busy": "2025-01-23T23:26:37.152609Z",
     "iopub.status.idle": "2025-01-23T23:26:39.081060Z",
     "shell.execute_reply": "2025-01-23T23:26:39.080195Z",
     "shell.execute_reply.started": "2025-01-23T23:26:37.152889Z"
    },
    "trusted": true
   },
   "outputs": [],
   "source": [
    "# Import required modules\n",
    "import numpy as np\n",
    "import pandas as pd\n",
    "import seaborn as sns\n",
    "import matplotlib.pyplot as plt\n",
    "from catboost import CatBoostRegressor\n",
    "from sklearn.impute import SimpleImputer\n",
    "from sklearn.metrics import mean_squared_error\n",
    "from sklearn.model_selection import train_test_split\n",
    "import warnings \n",
    "warnings.filterwarnings('ignore')\n",
    "%matplotlib inline"
   ]
  },
  {
   "cell_type": "markdown",
   "metadata": {},
   "source": [
    "# Load data"
   ]
  },
  {
   "cell_type": "code",
   "execution_count": 2,
   "metadata": {
    "execution": {
     "iopub.execute_input": "2025-01-23T23:26:39.082665Z",
     "iopub.status.busy": "2025-01-23T23:26:39.082244Z",
     "iopub.status.idle": "2025-01-23T23:26:39.085781Z",
     "shell.execute_reply": "2025-01-23T23:26:39.085194Z",
     "shell.execute_reply.started": "2025-01-23T23:26:39.082641Z"
    },
    "trusted": true
   },
   "outputs": [],
   "source": [
    "# Define the path\n",
    "path = '/kaggle/input/ml-zoomcamp-2024-competition/'"
   ]
  },
  {
   "cell_type": "code",
   "execution_count": 3,
   "metadata": {
    "execution": {
     "iopub.execute_input": "2025-01-23T23:26:39.087550Z",
     "iopub.status.busy": "2025-01-23T23:26:39.087268Z",
     "iopub.status.idle": "2025-01-23T23:26:48.162292Z",
     "shell.execute_reply": "2025-01-23T23:26:48.161371Z",
     "shell.execute_reply.started": "2025-01-23T23:26:39.087528Z"
    },
    "trusted": true
   },
   "outputs": [
    {
     "name": "stdout",
     "output_type": "stream",
     "text": [
      "         date       item_id  quantity  price_base  sum_total  store_id\n",
      "0  2023-08-04  293375605257     1.000       47.86      47.86         1\n",
      "1  2023-08-04  a66fdf2c0ae7     3.000       49.60     148.80         1\n",
      "2  2023-08-04  daa46ef49b7a     0.822      379.00     311.54         1\n",
      "3  2023-08-04  a3b49c1bf758     1.000      129.00     129.00         1\n",
      "4  2023-08-04  ab611c5cef62     7.000       79.90     559.30         1\n",
      "\n",
      "date          0\n",
      "item_id       0\n",
      "quantity      0\n",
      "price_base    0\n",
      "sum_total     0\n",
      "store_id      0\n",
      "dtype: int64\n"
     ]
    }
   ],
   "source": [
    "# sales\n",
    "sales = pd.read_csv(f\"{path}/sales.csv\")\n",
    "sales.drop(columns=['Unnamed: 0'], inplace=True)\n",
    "print(sales.head())\n",
    "print()\n",
    "print(sales.isnull().sum())"
   ]
  },
  {
   "cell_type": "code",
   "execution_count": 4,
   "metadata": {
    "execution": {
     "iopub.execute_input": "2025-01-23T23:26:48.163654Z",
     "iopub.status.busy": "2025-01-23T23:26:48.163414Z",
     "iopub.status.idle": "2025-01-23T23:26:48.177054Z",
     "shell.execute_reply": "2025-01-23T23:26:48.176441Z",
     "shell.execute_reply.started": "2025-01-23T23:26:48.163634Z"
    },
    "trusted": true
   },
   "outputs": [
    {
     "name": "stdout",
     "output_type": "stream",
     "text": [
      "   store_id division            format   city  area\n",
      "0         4     Div1          MaxiEuro  City3  1887\n",
      "1         3     Div2  Format-7 express  City2   109\n",
      "2         2     Div2          Format-6  City1   210\n",
      "3         1     Div1          Format-1  City1  1500\n",
      "\n",
      "store_id    0\n",
      "division    0\n",
      "format      0\n",
      "city        0\n",
      "area        0\n",
      "dtype: int64\n"
     ]
    }
   ],
   "source": [
    "# stores\n",
    "stores = pd.read_csv(f\"{path}/stores.csv\")\n",
    "stores.drop(columns=['Unnamed: 0'], inplace=True)\n",
    "print(stores.head())\n",
    "print()\n",
    "print(stores.isnull().sum())"
   ]
  },
  {
   "cell_type": "code",
   "execution_count": 5,
   "metadata": {
    "execution": {
     "iopub.execute_input": "2025-01-23T23:26:48.178172Z",
     "iopub.status.busy": "2025-01-23T23:26:48.177866Z",
     "iopub.status.idle": "2025-01-23T23:26:48.878590Z",
     "shell.execute_reply": "2025-01-23T23:26:48.877606Z",
     "shell.execute_reply.started": "2025-01-23T23:26:48.178144Z"
    },
    "trusted": true
   },
   "outputs": [
    {
     "name": "stdout",
     "output_type": "stream",
     "text": [
      "        item_id                 dept_name          class_name  \\\n",
      "0  da17e2d5feda  БУМАЖНО-ВАТНАЯ ПРОДУКЦИЯ  БУМАЖНАЯ ПРОДУКЦИЯ   \n",
      "1  614de2b96018  БУМАЖНО-ВАТНАЯ ПРОДУКЦИЯ    ВАТНАЯ ПРОДУКЦИЯ   \n",
      "2  0c1f1f3e3e11  БУМАЖНО-ВАТНАЯ ПРОДУКЦИЯ    ВАТНАЯ ПРОДУКЦИЯ   \n",
      "3  71a7fa99f005           ТОВАРЫ ДЛЯ ДОМА              ПОСУДА   \n",
      "4  ec1bd4d59fe9  БУМАЖНО-ВАТНАЯ ПРОДУКЦИЯ    ВАТНАЯ ПРОДУКЦИЯ   \n",
      "\n",
      "      subclass_name item_type  weight_volume  weight_netto  fatness  \n",
      "0  ВЛАЖНЫЕ САЛФЕТКИ       NaN          150.0           NaN      NaN  \n",
      "1      ВАТНЫЕ ДИСКИ       NaN           30.0           NaN      NaN  \n",
      "2      ВАТНЫЕ ДИСКИ       NaN            NaN           NaN      NaN  \n",
      "3   КУХОННАЯ ПОСУДА       NaN            NaN           NaN      NaN  \n",
      "4      ВАТНЫЕ ДИСКИ       NaN           30.0           NaN      NaN  \n",
      "\n",
      "item_id               0\n",
      "dept_name             0\n",
      "class_name            0\n",
      "subclass_name         0\n",
      "item_type        176224\n",
      "weight_volume    136858\n",
      "weight_netto     170853\n",
      "fatness          212598\n",
      "dtype: int64\n"
     ]
    }
   ],
   "source": [
    "# catalog\n",
    "catalog = pd.read_csv(f\"{path}/catalog.csv\")\n",
    "catalog.drop(columns=['Unnamed: 0'], inplace=True)\n",
    "print(catalog.head())\n",
    "print()\n",
    "print(catalog.isnull().sum())"
   ]
  },
  {
   "cell_type": "code",
   "execution_count": 6,
   "metadata": {
    "execution": {
     "iopub.execute_input": "2025-01-23T23:26:48.880757Z",
     "iopub.status.busy": "2025-01-23T23:26:48.880500Z",
     "iopub.status.idle": "2025-01-23T23:26:49.702647Z",
     "shell.execute_reply": "2025-01-23T23:26:49.701748Z",
     "shell.execute_reply.started": "2025-01-23T23:26:48.880735Z"
    },
    "trusted": true
   },
   "outputs": [
    {
     "name": "stdout",
     "output_type": "stream",
     "text": [
      "         date       item_id  price        code  store_id\n",
      "0  2023-08-01  4a1f95fe4d4b  499.9           1         1\n",
      "1  2023-08-01  bf43a9d3ae13    0.0  9999999999         1\n",
      "2  2023-08-01  0dd8744decce  129.9           1         1\n",
      "3  2023-08-01  9b38c7e4dba9  136.0           1         1\n",
      "4  2023-08-01  b791e8c9347c    0.0           1         1\n",
      "\n",
      "date        0\n",
      "item_id     0\n",
      "price       0\n",
      "code        0\n",
      "store_id    0\n",
      "dtype: int64\n"
     ]
    }
   ],
   "source": [
    "# price_history\n",
    "price_history = pd.read_csv(f\"{path}/price_history.csv\")\n",
    "price_history.drop(columns=['Unnamed: 0'], inplace=True)\n",
    "print(price_history.head())\n",
    "print()\n",
    "print(price_history.isnull().sum())"
   ]
  },
  {
   "cell_type": "code",
   "execution_count": 7,
   "metadata": {
    "execution": {
     "iopub.execute_input": "2025-01-23T23:26:49.704256Z",
     "iopub.status.busy": "2025-01-23T23:26:49.703991Z",
     "iopub.status.idle": "2025-01-23T23:26:58.312563Z",
     "shell.execute_reply": "2025-01-23T23:26:58.311205Z",
     "shell.execute_reply.started": "2025-01-23T23:26:49.704235Z"
    },
    "trusted": true
   },
   "outputs": [
    {
     "name": "stdout",
     "output_type": "stream",
     "text": [
      "         date       item_id  sale_price_before_promo  sale_price_time_promo  \\\n",
      "0  2022-08-28  cde97a9ec3ef                    729.9                  669.9   \n",
      "1  2022-08-28  2906fbc9e11c                    129.9                   99.9   \n",
      "2  2022-08-28  c48c3a3d8c01                    129.9                   99.9   \n",
      "3  2022-08-28  f85243ca61e6                    129.9                   99.9   \n",
      "4  2022-08-28  27ce75534065                    129.9                   99.9   \n",
      "\n",
      "   promo_type_code                                doc_id  number_disc_day  \\\n",
      "0              6.0  89ea9f0c-1c08-11ed-ad4d-005056861040             13.0   \n",
      "1              NaN  039e85df-1e51-11ed-ad4d-005056861040             11.0   \n",
      "2              NaN  039e85df-1e51-11ed-ad4d-005056861040             11.0   \n",
      "3              NaN  039e85df-1e51-11ed-ad4d-005056861040             11.0   \n",
      "4              NaN  039e85df-1e51-11ed-ad4d-005056861040             11.0   \n",
      "\n",
      "   store_id  \n",
      "0         1  \n",
      "1         1  \n",
      "2         1  \n",
      "3         1  \n",
      "4         1  \n",
      "\n",
      "date                            0\n",
      "item_id                         0\n",
      "sale_price_before_promo         0\n",
      "sale_price_time_promo           0\n",
      "promo_type_code            317846\n",
      "doc_id                          0\n",
      "number_disc_day                 0\n",
      "store_id                        0\n",
      "dtype: int64\n"
     ]
    }
   ],
   "source": [
    "# discounts_history\n",
    "discounts_history = pd.read_csv(f\"{path}/discounts_history.csv\")\n",
    "discounts_history.drop(columns=['Unnamed: 0'], inplace=True)\n",
    "print(discounts_history.head())\n",
    "print()\n",
    "print(discounts_history.isnull().sum())"
   ]
  },
  {
   "cell_type": "code",
   "execution_count": 8,
   "metadata": {
    "execution": {
     "iopub.execute_input": "2025-01-23T23:26:58.314033Z",
     "iopub.status.busy": "2025-01-23T23:26:58.313687Z",
     "iopub.status.idle": "2025-01-23T23:26:58.344559Z",
     "shell.execute_reply": "2025-01-23T23:26:58.343726Z",
     "shell.execute_reply.started": "2025-01-23T23:26:58.314005Z"
    },
    "trusted": true
   },
   "outputs": [
    {
     "name": "stdout",
     "output_type": "stream",
     "text": [
      "         date       item_id  normal_price  price  quantity  store_id\n",
      "0  2023-08-01  bc2f82a22e11         189.0  100.0       8.0         1\n",
      "1  2023-08-01  389412076801         179.0  100.0       5.0         1\n",
      "2  2023-08-01  0e39cf5d57c1         149.0  100.0       5.0         1\n",
      "3  2023-08-01  dd94e2bc5601         149.0  100.0       1.0         1\n",
      "4  2023-08-01  e60d890f2812         369.0  270.0       1.0         1\n",
      "\n",
      "date            0\n",
      "item_id         0\n",
      "normal_price    0\n",
      "price           0\n",
      "quantity        0\n",
      "store_id        0\n",
      "dtype: int64\n"
     ]
    }
   ],
   "source": [
    "# markdowns\n",
    "markdowns = pd.read_csv(f\"{path}/markdowns.csv\")\n",
    "markdowns.drop(columns=['Unnamed: 0'], inplace=True)\n",
    "print(markdowns.head())\n",
    "print()\n",
    "print(markdowns.isnull().sum())"
   ]
  },
  {
   "cell_type": "code",
   "execution_count": 9,
   "metadata": {
    "execution": {
     "iopub.execute_input": "2025-01-23T23:26:58.345515Z",
     "iopub.status.busy": "2025-01-23T23:26:58.345296Z",
     "iopub.status.idle": "2025-01-23T23:27:09.192038Z",
     "shell.execute_reply": "2025-01-23T23:27:09.191016Z",
     "shell.execute_reply.started": "2025-01-23T23:26:58.345497Z"
    },
    "trusted": true
   },
   "outputs": [
    {
     "name": "stdout",
     "output_type": "stream",
     "text": [
      "Index(['date', 'item_id', 'quantity', 'price_base', 'sum_total', 'store_id',\n",
      "       'division', 'format', 'city', 'area', 'dept_name', 'class_name',\n",
      "       'subclass_name', 'item_type', 'weight_volume', 'weight_netto',\n",
      "       'fatness'],\n",
      "      dtype='object') (7432685, 17)\n"
     ]
    }
   ],
   "source": [
    "# Load the data\n",
    "sales = pd.read_csv(f\"{path}/sales.csv\")\n",
    "sales.drop(columns=['Unnamed: 0'], inplace=True)\n",
    "stores = pd.read_csv(f\"{path}/stores.csv\")\n",
    "stores.drop(columns=['Unnamed: 0'], inplace=True)\n",
    "catalog = pd.read_csv(f\"{path}/catalog.csv\")\n",
    "catalog.drop(columns=['Unnamed: 0'], inplace=True)\n",
    "\n",
    "\n",
    "# Merge sales with store and catalog info for feature enrichment\n",
    "sales = sales.merge(stores, on=\"store_id\", how=\"left\")\n",
    "sales = sales.merge(catalog, on=\"item_id\", how=\"left\")\n",
    "\n",
    "print(sales.columns, sales.shape)"
   ]
  },
  {
   "cell_type": "markdown",
   "metadata": {},
   "source": [
    "# Feature engineering"
   ]
  },
  {
   "cell_type": "code",
   "execution_count": 10,
   "metadata": {
    "execution": {
     "iopub.execute_input": "2025-01-23T23:27:09.193272Z",
     "iopub.status.busy": "2025-01-23T23:27:09.193000Z",
     "iopub.status.idle": "2025-01-23T23:27:11.495907Z",
     "shell.execute_reply": "2025-01-23T23:27:11.494981Z",
     "shell.execute_reply.started": "2025-01-23T23:27:09.193240Z"
    },
    "trusted": true
   },
   "outputs": [
    {
     "name": "stdout",
     "output_type": "stream",
     "text": [
      "Index(['division', 'format', 'city', 'area', 'dept_name', 'class_name',\n",
      "       'subclass_name', 'item_type', 'weight_volume', 'weight_netto',\n",
      "       'fatness', 'year', 'month', 'day', 'day_of_week', 'quantity'],\n",
      "      dtype='object') (7432685, 16)\n"
     ]
    }
   ],
   "source": [
    "# Add time-based features\n",
    "sales[\"date\"] = pd.to_datetime(sales[\"date\"])\n",
    "sales[\"year\"] = sales[\"date\"].dt.year\n",
    "sales[\"month\"] = sales[\"date\"].dt.month\n",
    "sales[\"day\"] = sales[\"date\"].dt.day\n",
    "sales[\"day_of_week\"] = sales[\"date\"].dt.dayofweek\n",
    "\n",
    "# Select features and target\n",
    "features = [\n",
    "    'division', 'format', 'city', 'area', 'dept_name', 'class_name', 'subclass_name', 'item_type', \n",
    "    'weight_volume', 'weight_netto', 'fatness', 'year', 'month', 'day', 'day_of_week', 'quantity'\n",
    "]\n",
    "\n",
    "sales = sales[features]\n",
    "print(sales.columns, sales.shape)"
   ]
  },
  {
   "cell_type": "code",
   "execution_count": 11,
   "metadata": {
    "execution": {
     "iopub.execute_input": "2025-01-23T23:27:11.497079Z",
     "iopub.status.busy": "2025-01-23T23:27:11.496791Z",
     "iopub.status.idle": "2025-01-23T23:27:11.513894Z",
     "shell.execute_reply": "2025-01-23T23:27:11.513059Z",
     "shell.execute_reply.started": "2025-01-23T23:27:11.497046Z"
    },
    "trusted": true
   },
   "outputs": [
    {
     "data": {
      "text/html": [
       "<div>\n",
       "<style scoped>\n",
       "    .dataframe tbody tr th:only-of-type {\n",
       "        vertical-align: middle;\n",
       "    }\n",
       "\n",
       "    .dataframe tbody tr th {\n",
       "        vertical-align: top;\n",
       "    }\n",
       "\n",
       "    .dataframe thead th {\n",
       "        text-align: right;\n",
       "    }\n",
       "</style>\n",
       "<table border=\"1\" class=\"dataframe\">\n",
       "  <thead>\n",
       "    <tr style=\"text-align: right;\">\n",
       "      <th></th>\n",
       "      <th>division</th>\n",
       "      <th>format</th>\n",
       "      <th>city</th>\n",
       "      <th>area</th>\n",
       "      <th>dept_name</th>\n",
       "      <th>class_name</th>\n",
       "      <th>subclass_name</th>\n",
       "      <th>item_type</th>\n",
       "      <th>weight_volume</th>\n",
       "      <th>weight_netto</th>\n",
       "      <th>fatness</th>\n",
       "      <th>year</th>\n",
       "      <th>month</th>\n",
       "      <th>day</th>\n",
       "      <th>day_of_week</th>\n",
       "      <th>quantity</th>\n",
       "    </tr>\n",
       "  </thead>\n",
       "  <tbody>\n",
       "    <tr>\n",
       "      <th>0</th>\n",
       "      <td>Div1</td>\n",
       "      <td>Format-1</td>\n",
       "      <td>City1</td>\n",
       "      <td>1500</td>\n",
       "      <td>ПРИКАССА</td>\n",
       "      <td>ЖЕВАТЕЛЬНАЯ РЕЗИНКА</td>\n",
       "      <td>ПОДУШЕЧКИ</td>\n",
       "      <td>Подушечки</td>\n",
       "      <td>0.0155</td>\n",
       "      <td>0.015</td>\n",
       "      <td>NaN</td>\n",
       "      <td>2023</td>\n",
       "      <td>8</td>\n",
       "      <td>4</td>\n",
       "      <td>4</td>\n",
       "      <td>1.000</td>\n",
       "    </tr>\n",
       "    <tr>\n",
       "      <th>1</th>\n",
       "      <td>Div1</td>\n",
       "      <td>Format-1</td>\n",
       "      <td>City1</td>\n",
       "      <td>1500</td>\n",
       "      <td>ЛИМОНАДЫ</td>\n",
       "      <td>НЕКОЛОСОДЕРЖАЩИЕ</td>\n",
       "      <td>ДО 0,6Л.</td>\n",
       "      <td>Лимонады</td>\n",
       "      <td>0.5000</td>\n",
       "      <td>0.500</td>\n",
       "      <td>NaN</td>\n",
       "      <td>2023</td>\n",
       "      <td>8</td>\n",
       "      <td>4</td>\n",
       "      <td>4</td>\n",
       "      <td>3.000</td>\n",
       "    </tr>\n",
       "    <tr>\n",
       "      <th>2</th>\n",
       "      <td>Div1</td>\n",
       "      <td>Format-1</td>\n",
       "      <td>City1</td>\n",
       "      <td>1500</td>\n",
       "      <td>СЛОЙКА</td>\n",
       "      <td>СЛОЙКА</td>\n",
       "      <td>СОБСТВЕННОЕ ПРОИЗВОДСТВО</td>\n",
       "      <td>Слойки</td>\n",
       "      <td>NaN</td>\n",
       "      <td>NaN</td>\n",
       "      <td>NaN</td>\n",
       "      <td>2023</td>\n",
       "      <td>8</td>\n",
       "      <td>4</td>\n",
       "      <td>4</td>\n",
       "      <td>0.822</td>\n",
       "    </tr>\n",
       "    <tr>\n",
       "      <th>3</th>\n",
       "      <td>Div1</td>\n",
       "      <td>Format-1</td>\n",
       "      <td>City1</td>\n",
       "      <td>1500</td>\n",
       "      <td>ПЕРСОНАЛЬНЫЙ УХОД</td>\n",
       "      <td>ДЛЯ ВАННЫ И ДУША</td>\n",
       "      <td>ЖИДКОЕ МЫЛО</td>\n",
       "      <td>Жидкое Мыло</td>\n",
       "      <td>0.2000</td>\n",
       "      <td>0.200</td>\n",
       "      <td>NaN</td>\n",
       "      <td>2023</td>\n",
       "      <td>8</td>\n",
       "      <td>4</td>\n",
       "      <td>4</td>\n",
       "      <td>1.000</td>\n",
       "    </tr>\n",
       "    <tr>\n",
       "      <th>4</th>\n",
       "      <td>Div1</td>\n",
       "      <td>Format-1</td>\n",
       "      <td>City1</td>\n",
       "      <td>1500</td>\n",
       "      <td>СОВРЕМЕННАЯ МОЛОЧНАЯ КАТЕГОРИЯ</td>\n",
       "      <td>ЙОГУРТЫ</td>\n",
       "      <td>ЙОГУРТЫ ЛОЖКОВЫЕ</td>\n",
       "      <td>Йогурты Ложковые</td>\n",
       "      <td>0.3500</td>\n",
       "      <td>0.350</td>\n",
       "      <td>1.5</td>\n",
       "      <td>2023</td>\n",
       "      <td>8</td>\n",
       "      <td>4</td>\n",
       "      <td>4</td>\n",
       "      <td>7.000</td>\n",
       "    </tr>\n",
       "  </tbody>\n",
       "</table>\n",
       "</div>"
      ],
      "text/plain": [
       "  division    format   city  area                       dept_name  \\\n",
       "0     Div1  Format-1  City1  1500                        ПРИКАССА   \n",
       "1     Div1  Format-1  City1  1500                        ЛИМОНАДЫ   \n",
       "2     Div1  Format-1  City1  1500                          СЛОЙКА   \n",
       "3     Div1  Format-1  City1  1500               ПЕРСОНАЛЬНЫЙ УХОД   \n",
       "4     Div1  Format-1  City1  1500  СОВРЕМЕННАЯ МОЛОЧНАЯ КАТЕГОРИЯ   \n",
       "\n",
       "            class_name             subclass_name         item_type  \\\n",
       "0  ЖЕВАТЕЛЬНАЯ РЕЗИНКА                 ПОДУШЕЧКИ         Подушечки   \n",
       "1     НЕКОЛОСОДЕРЖАЩИЕ                  ДО 0,6Л.          Лимонады   \n",
       "2               СЛОЙКА  СОБСТВЕННОЕ ПРОИЗВОДСТВО            Слойки   \n",
       "3     ДЛЯ ВАННЫ И ДУША               ЖИДКОЕ МЫЛО       Жидкое Мыло   \n",
       "4              ЙОГУРТЫ          ЙОГУРТЫ ЛОЖКОВЫЕ  Йогурты Ложковые   \n",
       "\n",
       "   weight_volume  weight_netto  fatness  year  month  day  day_of_week  \\\n",
       "0         0.0155         0.015      NaN  2023      8    4            4   \n",
       "1         0.5000         0.500      NaN  2023      8    4            4   \n",
       "2            NaN           NaN      NaN  2023      8    4            4   \n",
       "3         0.2000         0.200      NaN  2023      8    4            4   \n",
       "4         0.3500         0.350      1.5  2023      8    4            4   \n",
       "\n",
       "   quantity  \n",
       "0     1.000  \n",
       "1     3.000  \n",
       "2     0.822  \n",
       "3     1.000  \n",
       "4     7.000  "
      ]
     },
     "execution_count": 11,
     "metadata": {},
     "output_type": "execute_result"
    }
   ],
   "source": [
    "# Show head of sales\n",
    "sales.head()"
   ]
  },
  {
   "cell_type": "code",
   "execution_count": 12,
   "metadata": {
    "execution": {
     "iopub.execute_input": "2025-01-23T23:27:11.515343Z",
     "iopub.status.busy": "2025-01-23T23:27:11.514984Z",
     "iopub.status.idle": "2025-01-23T23:27:11.527145Z",
     "shell.execute_reply": "2025-01-23T23:27:11.526303Z",
     "shell.execute_reply.started": "2025-01-23T23:27:11.515311Z"
    },
    "trusted": true
   },
   "outputs": [
    {
     "name": "stdout",
     "output_type": "stream",
     "text": [
      "<class 'pandas.core.frame.DataFrame'>\n",
      "RangeIndex: 7432685 entries, 0 to 7432684\n",
      "Data columns (total 16 columns):\n",
      " #   Column         Dtype  \n",
      "---  ------         -----  \n",
      " 0   division       object \n",
      " 1   format         object \n",
      " 2   city           object \n",
      " 3   area           int64  \n",
      " 4   dept_name      object \n",
      " 5   class_name     object \n",
      " 6   subclass_name  object \n",
      " 7   item_type      object \n",
      " 8   weight_volume  float64\n",
      " 9   weight_netto   float64\n",
      " 10  fatness        float64\n",
      " 11  year           int32  \n",
      " 12  month          int32  \n",
      " 13  day            int32  \n",
      " 14  day_of_week    int32  \n",
      " 15  quantity       float64\n",
      "dtypes: float64(4), int32(4), int64(1), object(7)\n",
      "memory usage: 793.9+ MB\n"
     ]
    }
   ],
   "source": [
    "# Show info of sales\n",
    "sales.info()"
   ]
  },
  {
   "cell_type": "code",
   "execution_count": 13,
   "metadata": {
    "execution": {
     "iopub.execute_input": "2025-01-23T23:27:11.528262Z",
     "iopub.status.busy": "2025-01-23T23:27:11.527953Z",
     "iopub.status.idle": "2025-01-23T23:27:11.540593Z",
     "shell.execute_reply": "2025-01-23T23:27:11.539743Z",
     "shell.execute_reply.started": "2025-01-23T23:27:11.528229Z"
    },
    "trusted": true
   },
   "outputs": [
    {
     "data": {
      "text/plain": [
       "(7432685, 16)"
      ]
     },
     "execution_count": 13,
     "metadata": {},
     "output_type": "execute_result"
    }
   ],
   "source": [
    "# Show the shape of sales\n",
    "sales.shape"
   ]
  },
  {
   "cell_type": "code",
   "execution_count": 14,
   "metadata": {
    "execution": {
     "iopub.execute_input": "2025-01-23T23:27:11.543587Z",
     "iopub.status.busy": "2025-01-23T23:27:11.543317Z",
     "iopub.status.idle": "2025-01-23T23:27:13.591173Z",
     "shell.execute_reply": "2025-01-23T23:27:13.590402Z",
     "shell.execute_reply.started": "2025-01-23T23:27:11.543566Z"
    },
    "trusted": true
   },
   "outputs": [
    {
     "data": {
      "text/html": [
       "<div>\n",
       "<style scoped>\n",
       "    .dataframe tbody tr th:only-of-type {\n",
       "        vertical-align: middle;\n",
       "    }\n",
       "\n",
       "    .dataframe tbody tr th {\n",
       "        vertical-align: top;\n",
       "    }\n",
       "\n",
       "    .dataframe thead th {\n",
       "        text-align: right;\n",
       "    }\n",
       "</style>\n",
       "<table border=\"1\" class=\"dataframe\">\n",
       "  <thead>\n",
       "    <tr style=\"text-align: right;\">\n",
       "      <th></th>\n",
       "      <th>area</th>\n",
       "      <th>weight_volume</th>\n",
       "      <th>weight_netto</th>\n",
       "      <th>fatness</th>\n",
       "      <th>year</th>\n",
       "      <th>month</th>\n",
       "      <th>day</th>\n",
       "      <th>day_of_week</th>\n",
       "      <th>quantity</th>\n",
       "    </tr>\n",
       "  </thead>\n",
       "  <tbody>\n",
       "    <tr>\n",
       "      <th>count</th>\n",
       "      <td>7432685.0</td>\n",
       "      <td>5996495.0</td>\n",
       "      <td>6317969.0</td>\n",
       "      <td>652776.0</td>\n",
       "      <td>7432685.0</td>\n",
       "      <td>7432685.0</td>\n",
       "      <td>7432685.0</td>\n",
       "      <td>7432685.0</td>\n",
       "      <td>7432685.0</td>\n",
       "    </tr>\n",
       "    <tr>\n",
       "      <th>mean</th>\n",
       "      <td>1195.0</td>\n",
       "      <td>1.0</td>\n",
       "      <td>0.0</td>\n",
       "      <td>16.0</td>\n",
       "      <td>2023.0</td>\n",
       "      <td>6.0</td>\n",
       "      <td>16.0</td>\n",
       "      <td>3.0</td>\n",
       "      <td>6.0</td>\n",
       "    </tr>\n",
       "    <tr>\n",
       "      <th>std</th>\n",
       "      <td>674.0</td>\n",
       "      <td>9.0</td>\n",
       "      <td>3.0</td>\n",
       "      <td>23.0</td>\n",
       "      <td>1.0</td>\n",
       "      <td>3.0</td>\n",
       "      <td>9.0</td>\n",
       "      <td>2.0</td>\n",
       "      <td>27.0</td>\n",
       "    </tr>\n",
       "    <tr>\n",
       "      <th>min</th>\n",
       "      <td>109.0</td>\n",
       "      <td>0.0</td>\n",
       "      <td>0.0</td>\n",
       "      <td>0.0</td>\n",
       "      <td>2022.0</td>\n",
       "      <td>1.0</td>\n",
       "      <td>1.0</td>\n",
       "      <td>0.0</td>\n",
       "      <td>-500.0</td>\n",
       "    </tr>\n",
       "    <tr>\n",
       "      <th>25%</th>\n",
       "      <td>210.0</td>\n",
       "      <td>0.0</td>\n",
       "      <td>0.0</td>\n",
       "      <td>2.0</td>\n",
       "      <td>2023.0</td>\n",
       "      <td>4.0</td>\n",
       "      <td>8.0</td>\n",
       "      <td>1.0</td>\n",
       "      <td>1.0</td>\n",
       "    </tr>\n",
       "    <tr>\n",
       "      <th>50%</th>\n",
       "      <td>1500.0</td>\n",
       "      <td>0.0</td>\n",
       "      <td>0.0</td>\n",
       "      <td>4.0</td>\n",
       "      <td>2023.0</td>\n",
       "      <td>6.0</td>\n",
       "      <td>16.0</td>\n",
       "      <td>3.0</td>\n",
       "      <td>2.0</td>\n",
       "    </tr>\n",
       "    <tr>\n",
       "      <th>75%</th>\n",
       "      <td>1500.0</td>\n",
       "      <td>0.0</td>\n",
       "      <td>0.0</td>\n",
       "      <td>15.0</td>\n",
       "      <td>2024.0</td>\n",
       "      <td>9.0</td>\n",
       "      <td>23.0</td>\n",
       "      <td>5.0</td>\n",
       "      <td>5.0</td>\n",
       "    </tr>\n",
       "    <tr>\n",
       "      <th>max</th>\n",
       "      <td>1887.0</td>\n",
       "      <td>1000.0</td>\n",
       "      <td>1200.0</td>\n",
       "      <td>99.0</td>\n",
       "      <td>2024.0</td>\n",
       "      <td>12.0</td>\n",
       "      <td>31.0</td>\n",
       "      <td>6.0</td>\n",
       "      <td>4952.0</td>\n",
       "    </tr>\n",
       "  </tbody>\n",
       "</table>\n",
       "</div>"
      ],
      "text/plain": [
       "            area  weight_volume  weight_netto   fatness       year      month  \\\n",
       "count  7432685.0      5996495.0     6317969.0  652776.0  7432685.0  7432685.0   \n",
       "mean      1195.0            1.0           0.0      16.0     2023.0        6.0   \n",
       "std        674.0            9.0           3.0      23.0        1.0        3.0   \n",
       "min        109.0            0.0           0.0       0.0     2022.0        1.0   \n",
       "25%        210.0            0.0           0.0       2.0     2023.0        4.0   \n",
       "50%       1500.0            0.0           0.0       4.0     2023.0        6.0   \n",
       "75%       1500.0            0.0           0.0      15.0     2024.0        9.0   \n",
       "max       1887.0         1000.0        1200.0      99.0     2024.0       12.0   \n",
       "\n",
       "             day  day_of_week   quantity  \n",
       "count  7432685.0    7432685.0  7432685.0  \n",
       "mean        16.0          3.0        6.0  \n",
       "std          9.0          2.0       27.0  \n",
       "min          1.0          0.0     -500.0  \n",
       "25%          8.0          1.0        1.0  \n",
       "50%         16.0          3.0        2.0  \n",
       "75%         23.0          5.0        5.0  \n",
       "max         31.0          6.0     4952.0  "
      ]
     },
     "execution_count": 14,
     "metadata": {},
     "output_type": "execute_result"
    }
   ],
   "source": [
    "# Get the statistics of sales\n",
    "sales.describe().round()"
   ]
  },
  {
   "cell_type": "code",
   "execution_count": 15,
   "metadata": {
    "execution": {
     "iopub.execute_input": "2025-01-23T23:27:13.592915Z",
     "iopub.status.busy": "2025-01-23T23:27:13.592630Z",
     "iopub.status.idle": "2025-01-23T23:27:14.568971Z",
     "shell.execute_reply": "2025-01-23T23:27:14.568300Z",
     "shell.execute_reply.started": "2025-01-23T23:27:13.592894Z"
    },
    "trusted": true
   },
   "outputs": [],
   "source": [
    "# Define the columns for correlation\n",
    "cor_col = sales.drop(columns='quantity').select_dtypes(include=np.number).columns.tolist()"
   ]
  },
  {
   "cell_type": "code",
   "execution_count": 16,
   "metadata": {
    "execution": {
     "iopub.execute_input": "2025-01-23T23:27:14.570053Z",
     "iopub.status.busy": "2025-01-23T23:27:14.569753Z",
     "iopub.status.idle": "2025-01-23T23:27:16.217580Z",
     "shell.execute_reply": "2025-01-23T23:27:16.216903Z",
     "shell.execute_reply.started": "2025-01-23T23:27:14.570024Z"
    },
    "trusted": true
   },
   "outputs": [],
   "source": [
    "# Check for correletion.\n",
    "corr = sales[cor_col].corr().round(2)"
   ]
  },
  {
   "cell_type": "code",
   "execution_count": 17,
   "metadata": {
    "execution": {
     "iopub.execute_input": "2025-01-23T23:27:16.218473Z",
     "iopub.status.busy": "2025-01-23T23:27:16.218255Z",
     "iopub.status.idle": "2025-01-23T23:27:16.570547Z",
     "shell.execute_reply": "2025-01-23T23:27:16.569709Z",
     "shell.execute_reply.started": "2025-01-23T23:27:16.218454Z"
    },
    "trusted": true
   },
   "outputs": [
    {
     "data": {
      "image/png": "[encoded data removed]",
      "text/plain": [
       "<Figure size 1000x1000 with 1 Axes>"
      ]
     },
     "metadata": {},
     "output_type": "display_data"
    }
   ],
   "source": [
    "# Draw the correlation heatmap\n",
    "plt.figure(figsize=(10, 10))\n",
    "sns.heatmap(corr, cmap='Blues', annot=True, cbar=False)\n",
    "plt.title('Heatmap')\n",
    "plt.show()"
   ]
  },
  {
   "cell_type": "code",
   "execution_count": 18,
   "metadata": {
    "execution": {
     "iopub.execute_input": "2025-01-23T23:27:16.571645Z",
     "iopub.status.busy": "2025-01-23T23:27:16.571422Z",
     "iopub.status.idle": "2025-01-23T23:27:21.268409Z",
     "shell.execute_reply": "2025-01-23T23:27:21.267436Z",
     "shell.execute_reply.started": "2025-01-23T23:27:16.571626Z"
    },
    "trusted": true
   },
   "outputs": [
    {
     "data": {
      "image/png": "[encoded data removed]",
      "text/plain": [
       "<Figure size 1500x800 with 1 Axes>"
      ]
     },
     "metadata": {},
     "output_type": "display_data"
    }
   ],
   "source": [
    "# Draw boxplot of the the numerical columns\n",
    "plt.figure(figsize=(15, 8))\n",
    "the_plot = sns.boxplot(data=sales[cor_col])\n",
    "plt.title('Outliers')\n",
    "the_plot.set_xticklabels(the_plot.get_xticklabels(), rotation=45)\n",
    "plt.show()"
   ]
  },
  {
   "cell_type": "markdown",
   "metadata": {},
   "source": [
    "# Training"
   ]
  },
  {
   "cell_type": "code",
   "execution_count": 19,
   "metadata": {
    "execution": {
     "iopub.execute_input": "2025-01-23T23:27:21.269698Z",
     "iopub.status.busy": "2025-01-23T23:27:21.269370Z",
     "iopub.status.idle": "2025-01-23T23:27:34.050966Z",
     "shell.execute_reply": "2025-01-23T23:27:34.050274Z",
     "shell.execute_reply.started": "2025-01-23T23:27:21.269657Z"
    },
    "trusted": true
   },
   "outputs": [],
   "source": [
    "# Define the path\n",
    "path = '/kaggle/input/ml-zoomcamp-2024-competition/'\n",
    "\n",
    "# Load the data\n",
    "sales = pd.read_csv(f\"{path}/sales.csv\")\n",
    "sales.drop(columns=['Unnamed: 0'], inplace=True)\n",
    "stores = pd.read_csv(f\"{path}/stores.csv\")\n",
    "stores.drop(columns=['Unnamed: 0'], inplace=True)\n",
    "catalog = pd.read_csv(f\"{path}/catalog.csv\")\n",
    "catalog.drop(columns=['Unnamed: 0'], inplace=True)\n",
    "\n",
    "# Merge sales with store and catalog info for feature enrichment\n",
    "sales = sales.merge(stores, on=\"store_id\", how=\"left\")\n",
    "sales = sales.merge(catalog, on=\"item_id\", how=\"left\")\n",
    "\n",
    "# Add time-based features\n",
    "sales[\"date\"] = pd.to_datetime(sales[\"date\"])\n",
    "sales[\"year\"] = sales[\"date\"].dt.year\n",
    "sales[\"month\"] = sales[\"date\"].dt.month\n",
    "sales[\"day\"] = sales[\"date\"].dt.day\n",
    "sales[\"day_of_week\"] = sales[\"date\"].dt.dayofweek\n",
    "\n",
    "# Select features and target\n",
    "features = [\n",
    "    'division', 'format', 'city', 'area', 'dept_name', 'class_name', 'subclass_name', 'item_type', \n",
    "    'weight_volume', 'weight_netto', 'fatness', 'year', 'month', 'day', 'day_of_week', 'quantity'\n",
    "]\n",
    "\n",
    "sales = sales[features]"
   ]
  },
  {
   "cell_type": "code",
   "execution_count": 20,
   "metadata": {
    "execution": {
     "iopub.execute_input": "2025-01-23T23:27:34.052030Z",
     "iopub.status.busy": "2025-01-23T23:27:34.051814Z",
     "iopub.status.idle": "2025-01-23T23:27:36.475328Z",
     "shell.execute_reply": "2025-01-23T23:27:36.474482Z",
     "shell.execute_reply.started": "2025-01-23T23:27:34.052012Z"
    },
    "trusted": true
   },
   "outputs": [],
   "source": [
    "# Define the data for use.\n",
    "df = sales.copy()"
   ]
  },
  {
   "cell_type": "markdown",
   "metadata": {},
   "source": [
    "# Training functions"
   ]
  },
  {
   "cell_type": "code",
   "execution_count": 21,
   "metadata": {
    "execution": {
     "iopub.execute_input": "2025-01-23T23:27:36.476556Z",
     "iopub.status.busy": "2025-01-23T23:27:36.476208Z",
     "iopub.status.idle": "2025-01-23T23:27:36.487248Z",
     "shell.execute_reply": "2025-01-23T23:27:36.486228Z",
     "shell.execute_reply.started": "2025-01-23T23:27:36.476523Z"
    },
    "trusted": true
   },
   "outputs": [],
   "source": [
    "import pandas as pd\n",
    "import numpy as np\n",
    "from catboost import CatBoostRegressor, Pool\n",
    "from sklearn.model_selection import train_test_split\n",
    "from sklearn.impute import SimpleImputer\n",
    "from joblib import Parallel, delayed\n",
    "import warnings\n",
    "warnings.filterwarnings('ignore')\n",
    "\n",
    "\n",
    "class EnsemblePredictor:\n",
    "    def __init__(self, models):\n",
    "        self.models = models\n",
    "    \n",
    "    def predict(self, X):\n",
    "        predictions = np.array([model.predict(X) for model in self.models])\n",
    "        return np.mean(predictions, axis=0)\n",
    "\n",
    "def prepare_subset(df, cat_features):\n",
    "    \"\"\"Prepare a subset of data with imputation\"\"\"\n",
    "    # Convert categorical columns to string type and handle NaN\n",
    "    for col in cat_features:\n",
    "        df[col] = df[col].astype(str)\n",
    "        imputer = SimpleImputer(strategy='constant', fill_value='Unknown')\n",
    "        df[col] = imputer.fit_transform(df[[col]]).ravel()\n",
    "    \n",
    "    # Handle numerical features\n",
    "    numerical_features = [col for col in df.columns if col not in cat_features + ['quantity']]\n",
    "    num_imputer = SimpleImputer(strategy='mean')\n",
    "    df[numerical_features] = num_imputer.fit_transform(df[numerical_features])\n",
    "    \n",
    "    return df\n",
    "\n",
    "def train_model_on_subset(subset_data, cat_features, params):\n",
    "    \"\"\"Train a single model on a data subset\"\"\"\n",
    "    X = subset_data.drop('quantity', axis=1)\n",
    "    y = subset_data['quantity']\n",
    "    \n",
    "    X_train, X_val, y_train, y_val = train_test_split(\n",
    "        X, y, test_size=0.2, random_state=42\n",
    "    )\n",
    "    \n",
    "    model = CatBoostRegressor(\n",
    "        **params,\n",
    "        cat_features=cat_features,\n",
    "        eval_metric='RMSE',\n",
    "        random_seed=np.random.randint(0, 10000),\n",
    "        verbose=False\n",
    "    )\n",
    "    \n",
    "    model.fit(\n",
    "        X_train, y_train,\n",
    "        eval_set=(X_val, y_val),\n",
    "        early_stopping_rounds=50\n",
    "    )\n",
    "    \n",
    "    return model\n",
    "\n",
    "def efficient_training(df, n_models=5, subset_size=1000000):\n",
    "    \"\"\"Train multiple models on different subsets\"\"\"\n",
    "    # Define categorical features\n",
    "    cat_features = [\n",
    "        'division', 'format', 'city', 'area', 'dept_name', \n",
    "        'class_name', 'subclass_name', 'item_type'\n",
    "    ]\n",
    "    \n",
    "    # Best parameters (you can modify these)\n",
    "    params = {\n",
    "        'learning_rate': 0.1,\n",
    "        'depth': 6,\n",
    "        'iterations': 1000,\n",
    "        'l2_leaf_reg': 3,\n",
    "        'min_data_in_leaf': 5\n",
    "    }\n",
    "    \n",
    "    # Create and train models in parallel\n",
    "    models = Parallel(n_jobs=-1)(\n",
    "        delayed(train_model_on_subset)(\n",
    "            prepare_subset(df.sample(n=subset_size, random_state=i), cat_features),\n",
    "            cat_features,\n",
    "            params\n",
    "        )\n",
    "        for i in range(n_models)\n",
    "    )\n",
    "    \n",
    "    return EnsemblePredictor(models)"
   ]
  },
  {
   "cell_type": "code",
   "execution_count": 22,
   "metadata": {
    "execution": {
     "iopub.execute_input": "2025-01-23T23:27:36.488364Z",
     "iopub.status.busy": "2025-01-23T23:27:36.488074Z",
     "iopub.status.idle": "2025-01-23T23:27:36.501990Z",
     "shell.execute_reply": "2025-01-23T23:27:36.501141Z",
     "shell.execute_reply.started": "2025-01-23T23:27:36.488342Z"
    },
    "trusted": true
   },
   "outputs": [],
   "source": [
    "def evaluate_ensemble(ensemble, X_test, y_test):\n",
    "    \"\"\"Evaluate the ensemble model\"\"\"\n",
    "    y_pred = ensemble.predict(X_test)\n",
    "    rmse = np.sqrt(mean_squared_error(y_test, y_pred))\n",
    "    return rmse"
   ]
  },
  {
   "cell_type": "code",
   "execution_count": 23,
   "metadata": {
    "execution": {
     "iopub.execute_input": "2025-01-23T23:27:36.503278Z",
     "iopub.status.busy": "2025-01-23T23:27:36.502959Z",
     "iopub.status.idle": "2025-01-24T00:02:03.165477Z",
     "shell.execute_reply": "2025-01-24T00:02:03.164488Z",
     "shell.execute_reply.started": "2025-01-23T23:27:36.503247Z"
    },
    "trusted": true
   },
   "outputs": [
    {
     "name": "stdout",
     "output_type": "stream",
     "text": [
      "Training ensemble models...\n",
      "\\Validation set RMSE: 19.8227\n"
     ]
    }
   ],
   "source": [
    "cat_features = [\n",
    "        'division', 'format', 'city', 'area', 'dept_name', \n",
    "        'class_name', 'subclass_name', 'item_type', 'day_of_week'\n",
    "    ]\n",
    "\n",
    "val_size = 1000000  # Size of val set\n",
    "val_indices = np.random.choice(len(sales), size=val_size, replace=False)\n",
    "val_data = sales.iloc[val_indices]\n",
    "train_data = sales.drop(val_indices)\n",
    "\n",
    "val_data = prepare_subset(val_data, cat_features)\n",
    "\n",
    "# Train ensemble\n",
    "print(\"Training ensemble models...\")\n",
    "ensemble = efficient_training(\n",
    "    train_data,\n",
    "    n_models=10,          # Number of models in ensemble\n",
    "    subset_size=1000000  # Size of each training subset\n",
    ")\n",
    "\n",
    "# Evaluate\n",
    "X_val = val_data.drop('quantity', axis=1)\n",
    "y_val = val_data['quantity']\n",
    "rmse = evaluate_ensemble(ensemble, X_val, y_val)\n",
    "\n",
    "print(f\"\\Validation set RMSE: {rmse:.4f}\")"
   ]
  },
  {
   "cell_type": "markdown",
   "metadata": {},
   "source": [
    "# Submission"
   ]
  },
  {
   "cell_type": "code",
   "execution_count": 25,
   "metadata": {
    "execution": {
     "iopub.execute_input": "2025-01-24T00:09:51.061465Z",
     "iopub.status.busy": "2025-01-24T00:09:51.061067Z",
     "iopub.status.idle": "2025-01-24T00:09:52.511368Z",
     "shell.execute_reply": "2025-01-24T00:09:52.510474Z",
     "shell.execute_reply.started": "2025-01-24T00:09:51.061431Z"
    },
    "trusted": true
   },
   "outputs": [
    {
     "name": "stdout",
     "output_type": "stream",
     "text": [
      "Index(['division', 'format', 'city', 'area', 'dept_name', 'class_name',\n",
      "       'subclass_name', 'item_type', 'weight_volume', 'weight_netto',\n",
      "       'fatness', 'year', 'month', 'day', 'day_of_week'],\n",
      "      dtype='object') (883680, 15)\n"
     ]
    }
   ],
   "source": [
    "# Prepare test set for predictions\n",
    "test = pd.read_csv(f\"{path}/test.csv\", sep=';')\n",
    "\n",
    "test = test.merge(stores, on=\"store_id\", how=\"left\")\n",
    "test = test.merge(catalog, on=\"item_id\", how=\"left\")\n",
    "\n",
    "test[\"date\"] = pd.to_datetime(test[\"date\"])\n",
    "test[\"year\"] = test[\"date\"].dt.year\n",
    "test[\"month\"] = test[\"date\"].dt.month\n",
    "test[\"day\"] = test[\"date\"].dt.day\n",
    "test[\"day_of_week\"] = test[\"date\"].dt.dayofweek\n",
    "\n",
    "test_rows = test['row_id']\n",
    "\n",
    "test = test[[f for f in features if f!='quantity']]\n",
    "print(test.columns, test.shape)"
   ]
  },
  {
   "cell_type": "code",
   "execution_count": 26,
   "metadata": {
    "execution": {
     "iopub.execute_input": "2025-01-24T00:09:59.462097Z",
     "iopub.status.busy": "2025-01-24T00:09:59.461812Z",
     "iopub.status.idle": "2025-01-24T00:10:18.799219Z",
     "shell.execute_reply": "2025-01-24T00:10:18.798489Z",
     "shell.execute_reply.started": "2025-01-24T00:09:59.462077Z"
    },
    "trusted": true
   },
   "outputs": [],
   "source": [
    "test_data = prepare_subset(test, cat_features)\n",
    "test_predictions = ensemble.predict(test_data)"
   ]
  },
  {
   "cell_type": "code",
   "execution_count": 27,
   "metadata": {
    "execution": {
     "iopub.execute_input": "2025-01-24T00:10:44.899878Z",
     "iopub.status.busy": "2025-01-24T00:10:44.899583Z",
     "iopub.status.idle": "2025-01-24T00:10:45.398940Z",
     "shell.execute_reply": "2025-01-24T00:10:45.398281Z",
     "shell.execute_reply.started": "2025-01-24T00:10:44.899857Z"
    },
    "trusted": true
   },
   "outputs": [],
   "source": [
    "# Create submission file\n",
    "submission = pd.DataFrame({\n",
    "    'row_id': test_rows,\n",
    "    'quantity': test_predictions.round().astype(int)  # Round to nearest integer\n",
    "})\n",
    "\n",
    "submission.to_csv('submission.csv', index=False)"
   ]
  },
  {
   "cell_type": "code",
   "execution_count": 28,
   "metadata": {
    "execution": {
     "iopub.execute_input": "2025-01-24T00:10:52.406537Z",
     "iopub.status.busy": "2025-01-24T00:10:52.406238Z",
     "iopub.status.idle": "2025-01-24T00:10:52.410927Z",
     "shell.execute_reply": "2025-01-24T00:10:52.410150Z",
     "shell.execute_reply.started": "2025-01-24T00:10:52.406517Z"
    },
    "trusted": true
   },
   "outputs": [
    {
     "name": "stdout",
     "output_type": "stream",
     "text": [
      "Submission file 'submission.csv' created successfully!\n"
     ]
    }
   ],
   "source": [
    "print(\"Submission file 'submission.csv' created successfully!\")"
   ]
  },
  {
   "cell_type": "code",
   "execution_count": null,
   "metadata": {
    "trusted": true
   },
   "outputs": [],
   "source": []
  }
 ],
 "metadata": {
  "kaggle": {
   "accelerator": "nvidiaTeslaT4",
   "dataSources": [
    {
     "databundleVersionId": 10175212,
     "sourceId": 88022,
     "sourceType": "competition"
    }
   ],
   "dockerImageVersionId": 30839,
   "isGpuEnabled": true,
   "isInternetEnabled": true,
   "language": "python",
   "sourceType": "notebook"
  },
  "kernelspec": {
   "display_name": "Python 3",
   "language": "python",
   "name": "python3"
  },
  "language_info": {
   "codemirror_mode": {
    "name": "ipython",
    "version": 3
   },
   "file_extension": ".py",
   "mimetype": "text/x-python",
   "name": "python",
   "nbconvert_exporter": "python",
   "pygments_lexer": "ipython3",
   "version": "3.10.12"
  }
 },
 "nbformat": 4,
 "nbformat_minor": 4
}
